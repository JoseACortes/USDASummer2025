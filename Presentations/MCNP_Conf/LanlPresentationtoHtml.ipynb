{
 "cells": [
  {
   "cell_type": "code",
   "execution_count": 56,
   "id": "343173c4-4adb-4a26-acd8-da5e2f6a2909",
   "metadata": {},
   "outputs": [],
   "source": [
    "from IPython.display import display, Audio\n",
    "import numpy as np"
   ]
  },
  {
   "cell_type": "code",
   "execution_count": 57,
   "id": "2fb305a7-09c8-4e0f-bb24-e2470658b539",
   "metadata": {},
   "outputs": [],
   "source": [
    "from gtts import gTTS\n",
    "import io\n",
    "\n",
    "rate = 24000  # Hz\n",
    "\n",
    "\n",
    "def tts(text, rate=rate):\n",
    "    tts = gTTS(text=text, lang='en')\n",
    "    fp = io.BytesIO()\n",
    "    tts.write_to_fp(fp)\n",
    "    fp.seek(0)\n",
    "    display(Audio(fp.read(), autoplay=True))\n",
    "    "
   ]
  },
  {
   "cell_type": "code",
   "execution_count": 58,
   "id": "74d9a6a2-6874-4195-bbf0-a6a03975f4f0",
   "metadata": {},
   "outputs": [],
   "source": [
    "import markdown"
   ]
  },
  {
   "cell_type": "code",
   "execution_count": 59,
   "id": "5fad07db-0463-4008-ac9a-31a1aad4c723",
   "metadata": {},
   "outputs": [],
   "source": [
    "from gtts import gTTS\n",
    "import io\n",
    "import base64\n",
    "\n",
    "def tts_bytes(text, rate=rate):\n",
    "    tts = gTTS(text=text, lang='en')\n",
    "    fp = io.BytesIO()\n",
    "    tts.write_to_fp(fp)\n",
    "    fp.seek(0)\n",
    "    return fp.read()\n",
    "def genHTML(html_text):\n",
    "    html_content = f\"\"\"<!DOCTYPE html>\n",
    "<html>\n",
    "<head>\n",
    "    <meta charset=\"UTF-8\">\n",
    "    <title>Audio Playback and Timeline</title>\n",
    "</head>\n",
    "<body>\n",
    "{html_text}\n",
    "</body>\n",
    "</html>\n",
    "\"\"\"\n",
    "    return html_content\n",
    "\n",
    "\n"
   ]
  },
  {
   "cell_type": "code",
   "execution_count": 60,
   "id": "7c0d2528",
   "metadata": {},
   "outputs": [],
   "source": [
    "def audio_html(text):\n",
    "    # Generate audio bytes from the text\n",
    "    audio_bytes = tts_bytes(text.strip())\n",
    "    audio_base64 = base64.b64encode(audio_bytes).decode('utf-8')\n",
    "    entry = f\"\"\"\n",
    "    <audio controls>\n",
    "        <source src=\"data:audio/mp3;base64,{audio_base64}\" type=\"audio/mp3\">\n",
    "        Your browser does not support the audio element.\n",
    "    </audio>\n",
    "    \"\"\"\n",
    "    return entry"
   ]
  },
  {
   "cell_type": "code",
   "execution_count": 61,
   "id": "3f8a1b76",
   "metadata": {},
   "outputs": [],
   "source": [
    "text_file = 'outline.md'"
   ]
  },
  {
   "cell_type": "code",
   "execution_count": 62,
   "id": "87220892",
   "metadata": {},
   "outputs": [],
   "source": [
    "# Read the text file\n",
    "with open(text_file, 'r') as file:\n",
    "    text = file.read()"
   ]
  },
  {
   "cell_type": "code",
   "execution_count": null,
   "id": "7610d8b7",
   "metadata": {},
   "outputs": [],
   "source": []
  },
  {
   "cell_type": "code",
   "execution_count": 63,
   "id": "22b1f717",
   "metadata": {},
   "outputs": [],
   "source": [
    "# between <em> and </em> tags\n",
    "texts = text.split('<em>')[1:]  # Skip the first part before the first <em>\n",
    "texts = [t.split('</em>')[0] for t in texts]"
   ]
  },
  {
   "cell_type": "code",
   "execution_count": 64,
   "id": "773a933d",
   "metadata": {},
   "outputs": [
    {
     "data": {
      "text/plain": [
       "'<h1>Outline</h1>\\n<h2>Mesh Cells to Augment in Situ Spectroscopy</h2>\\n<p>Presenter: Jose Andres Cortes\\nAdvisors: Andrej Korzeniowski, Allen Torbert, Galina Yakubova and Aleksandr Kavetskiy\\nGroups: UTA Mathematics, USDA Agriculture Research Service\\nDate: July 8, 2025</p>\\n<p><em>Good Morning, My name is Jose Andres Cortes. I\\'m a second year grad student in mathematics from the University of Texas at Arlington. I am also an intern for the US Department of Agriculture. My advisors are doctors Andrej Korzeniowski, Allen Torbert, Galina Yakubova and Aleksandr Kavetskiy.</em></p>\\n<h2>Background</h2>\\n<p><img alt=\"Visit to Auburn Lab in Alabama\" src=\"Figures/Misc/infrontofthemachine.png\" /></p>\\n<ul>\\n<li>Collaborating with USDA Agriculture Research Service</li>\\n<li>Developing an in situ spectroscopy device for soil analysis</li>\\n</ul>\\n<p><em>For the last two years my advisor and I have collaborated with the USDA Agriculture Research Service, assisting them in the development of an in situ spectroscopy device.</em></p>\\n<h2>Core Harvesting</h2>\\n<p><img alt=\"Core Harvest\" src=\"Figures/Misc/SoilCore.jpg\" /></p>\\n<ul>\\n<li>Traditional method: “Core Harvesting”</li>\\n<li>Large soil cores extracted and analyzed in lab</li>\\n<li>Time-consuming, labor-intensive</li>\\n</ul>\\n<p><em>Currently the method of measuring carbon in a field is \"Core Harvesting\". Core harvesting is where large tubes called \"cores\" are dug into the soil and taken to a lab for analysis.</em></p>\\n<h2>In Situ Spectroscopy Device</h2>\\n<p><img alt=\"MINS on Field\" src=\"Figures/Misc/MINSInField.png\" /></p>\\n<ul>\\n<li>Fast, nondestructive, cost-effective alternative</li>\\n<li>“Mobile Inelastic Neutron Scattering System”</li>\\n<li>Uses gamma ray spectroscopy to measure soil composition directly</li>\\n</ul>\\n<p><em>In situ spectroscopy is a fast, nondestructive, and cheap alternative to core harvesting. Called the \"Mobile Inelastic Neutron Scattering System\". This device uses gamma ray spectroscopy in order to measure soil composition directly on the soil.</em></p>\\n<h2>Simulation is done in MCNP</h2>\\n<ul>\\n<li>My role: Mathematical support and simulation</li>\\n<li>Analyze and generate spectroscopy results\\nSimulations performed in MCNP6.2</li>\\n<li>Presenting challenges addressed with MCNP</li>\\n</ul>\\n<p><em>As an intern I have ben tasked with mathematical support of the project. This includes analysis of the the spectroscopy results and also the generation of spectroscopy results in simulation.Simulation is done in MCNP6.2 and today i will be presenting some challenges that I answered with the software.</em></p>\\n<h2>Soil is a Nonhomogenous Material</h2>\\n<p><img alt=\"Carbon case study over a field\" src=\"Figures/CaseStudy/fieldstudy.png\" />\\n<img alt=\"Carbon case study over depth\" src=\"Figures/CaseStudy/depthstudy.png\" /></p>\\n<ul>\\n<li>MCNP cells assume homogeneous material\\nReal soil: heterogeneous at many scales</li>\\n<li>Carbon often decreases exponentially with depth</li>\\n</ul>\\n<p><em>In MCNP, cells are used to define geometry and material properties.But it assumes that a cells material is homogeneous within the cell.In reality, soil is heterogeneous, with varying properties at different scales. This can be true over whole fields, but even within the range of detection, carbon content can be varied. Particularly in depth, where most of the carbon that is deposited can be modeled as exponentially decreasing.</em></p>\\n<h2>Functionally Defined Soil</h2>\\n<p><img alt=\"Carbon as a function in the soil\" src=\"Figures/FunctionallyDefinedSoil/Carbonasafunctioninthesoil.png\" /></p>\\n<ul>\\n<li>Soil characteristics can be described as functions of 3D space</li>\\n<li>Needed a way to translate this into MCNP input</li>\\n</ul>\\n<p><em>Mathematically we can describe the soil characteristics with a function dependent on 3 dimensional space. I needed a method to translate this description into MCNP.</em></p>\\n<h2>Mesh Cells</h2>\\n<p><img alt=\"Single to many cells\" src=\"Figures/MCNP/SingleToManyCells.png\" /></p>\\n<ul>\\n<li>Divide soil into a mesh of smaller cells\\nApproximate functional characteristics in discrete space</li>\\n<li>Higher mesh resolution = more accurate representation</li>\\n</ul>\\n<p><em>Instead of modeling the soil as a single cell, we can cut it into a mesh of smaller cells, from here we can approximate functional characteristics into discrete space. We start with a function describing relevant soil characteristics that are varied spatially. We then describe the geometry of the sample. The geometry is cut into sections of an arbitrary resolution. The higher the resolution, the more accurate the results would be to the functional description.</em></p>\\n<h2>Defining cell characteristics</h2>\\n<p><img alt=\"Individual Cell Sampling\" src=\"Figures/FunctionallyDefinedSoil/IndividualCellSampling.png\" /></p>\\n<ul>\\n<li>Use Monte Carlo sampling to average properties in each mesh cell</li>\\n<li>Assign average values to each cell\\nResults in a more detailed, accurate soil mode</li>\\n</ul>\\n<p><em>in each section, we use monte carlo to randomly and uniformly pick many points inside the volume to find the average characteristic. The average characteristics are then set as the defenition of the section. Mesh cells create a more detailed representation of the soil sample. This allows for more accurate modeling of the interaction between the radiation and the soil, leading to better predictions of spectral readings.</em></p>\\n<h2>effects on detection</h2>\\n<p><img alt=\"Effects of resolution on detection\" src=\"Figures/MCNP/Effectsofresolutionondetection.png\" /></p>\\n<ul>\\n<li>Start with a homogeneous cell, then subdivide</li>\\n<li>As mesh resolution increases, carbon density approaches true function</li>\\n<li>Spectral readings become more accurate</li>\\n<li>Readings are sensitive to local variations</li>\\n</ul>\\n<p><em>Here, we begin with a homogeneous cell, which is then cut into a mesh of smaller cells. As we increase he resolution of the method, the discrete characterisic of carbon density approahes the functional. We can see the effects on spectral readings. This imples that the readings are heavily dependent on proximity.</em></p>\\n<h2>Soil is a Semi-Infinite Sample</h2>\\n<p><img alt=\"Lab Spectroscopy\" src=\"Figures/Misc/LabSpectros.png\" />\\n<img alt=\"Field Spectroscopy\" src=\"Figures/Misc/FieldSpectros.png\" /></p>\\n<ul>\\n<li>Investigate detection range of the device</li>\\n<li>Lab: detector covers entire sample</li>\\n<li>Field: soil is semi-infinite, detection range is finite</li>\\n</ul>\\n<p><em>One of the focuses of my work has been on the range of the machine. In lab spectroscopy, the detector can be situated such that the entire sample is within range. On the field, soil is semi-infinite but the probing done by the detection system is still finite.</em></p>\\n<h2>Cell Mesh vs FMESH</h2>\\n<p><img alt=\"Cell Mesh vs FMESH code\" src=\"\" /></p>\\n<ul>\\n<li>MCNP FMESH: tally results in mesh bins (for imaging, range studies)</li>\\n<li>Cell meshes: can also tally per cell</li>\\n<li>Both methods help analyze detection range</li>\\n</ul>\\n<p><em>So how can you measure range in MCNP? The FMESH feature allows you to tally based on a predefined mesh that cuts a cell into sections, becoming bins in a tally. This feature is meant for imaging on the detector side, and can also be used to investigate the range from the neutron source into the sample. Similarly, cell meshes can have tallies applied to them, accomplishing the same thing as FMESH.</em></p>\\n<h2>Independent Cell Functionality</h2>\\n<p><img alt=\"Cell Ratio Mesh Detection\" src=\"Figures/MCNP/CellRatioMesh.png\" /></p>\\n<ul>\\n<li>Treat mesh cells as independent</li>\\n<li>CU card: bins tally by cell of interaction</li>\\n<li>Allows investigation of where detections originate</li>\\n</ul>\\n<p><em>The added functionality on top of this is the treatment of the cell mesh as independent cells. The CU card bins a tally based on the cell where the interacting particle was generated. By setting the parameters of the CU card to the cells in the mesh, we can investigate where the detectors are detecting.</em></p>\\n<h2>Cell clouds</h2>\\n<p><img alt=\"Cell Clouds\" src=\"Figures/MCNP/CellClouds.png\" /></p>\\n<p><em>We can order the cells by their detection ratios, and get a better grasp of where the top 90, 95 and 99% of unimpeded signal is originating.</em></p>\\n<h2>Range measurement</h2>\\n<p><img alt=\"Gradient Weighed Avg vs Homogeneous Avg\" src=\"Figures/MCNP/GradientWeighedAvgvsHomogeneousAvg.png\" /></p>\\n<ul>\\n<li>Example: measure energy deposition in detector, binned by mesh cell</li>\\n<li>Weighted sum of tallies per bin</li>\\n</ul>\\n<p>Figure: Comparison of homogeneous vs. meshed cell with same measured carbon content</p>\\n<p><em>In this example I measure the heating deposition into the detector, binned by mesh cells. I take the weighted sum of tallies per bin. Relatively, i use these values to describe the proportional effect on the detector result. Lets compare the spectral readings and range of a homogeneous cell with a cell mesh with the same amount of measured carbon.</em></p>\\n<h2>Usage Example</h2>\\n<ul>\\n<li>When machine design changes, simulate new detection results</li>\\n<li>Range can be re-evaluated</li>\\n<li>Example: pointing emitter under detector changes detection range</li>\\n</ul>\\n<p><img alt=\"Detector Direction to Measured Density\" src=\"\" /></p>\\n<p><em>Moving forward, when the architecture of the machine is changed and the detection results are simulated, range can also be determined. In this example, as we point the emmiter under the detector, we see the effects on the range.</em></p>\\n<h2>Code</h2>\\n<p><em>Examples and a tool for cell and tally generation can be found on my github</em></p>\\n<h2>Acknoledgements</h2>\\n<p><em>Thanks to my advisors for guiding me through this process. Thank you to UTA and USDA-ARS for funding my research</em></p>\\n<h2>References</h2>\\n<p>[^1] - Yakubova et al. - 2014 - Field Testing a Mobile Inelastic Neutron Scattering System to Measure Soil Carbon.</p>'"
      ]
     },
     "execution_count": 64,
     "metadata": {},
     "output_type": "execute_result"
    }
   ],
   "source": [
    "markdown.markdown(text)"
   ]
  },
  {
   "cell_type": "code",
   "execution_count": 69,
   "id": "bc7e71d9",
   "metadata": {},
   "outputs": [],
   "source": [
    "def insert_audio_html(html_text):\n",
    "    # Split the text into parts based on <h2> tags\n",
    "    header = html_text.split('<h2>')[0]\n",
    "    slides = html_text.split('<h2>')[1:]\n",
    "    # print('first slide:', slides[0])\n",
    "    # print('last slide:', slides[-1])\n",
    "    # print('---')\n",
    "    # in each slide, insert audio HTML before the first <em> tag\n",
    "    for i, slide in enumerate(slides):\n",
    "        # print('before\\n', slide)\n",
    "        if '<em>' in slide:\n",
    "            slides[i] = slide.replace('<em>', f'{audio_html(slide.split(\"<em>\")[1].split(\"</em>\")[0])}<em>\\n', 1)\n",
    "        # print('after insertion:\\n', slides[i])\n",
    "        # print('---')\n",
    "    return f\"{header}<h2>{'<h2>'.join(slides)}\"\n"
   ]
  },
  {
   "cell_type": "code",
   "execution_count": 70,
   "id": "8040f270",
   "metadata": {},
   "outputs": [],
   "source": [
    "# import re\n",
    "# import base64\n",
    "# import os\n",
    "\n",
    "# def bakeImages(html_text):\n",
    "#     def image_to_base64(img_path):\n",
    "#         if not os.path.isfile(img_path):\n",
    "#             return None\n",
    "#         with open(img_path, \"rb\") as img_file:\n",
    "#             encoded = base64.b64encode(img_file.read()).decode('utf-8')\n",
    "#         ext = os.path.splitext(img_path)[1][1:].lower()\n",
    "#         if ext == 'jpg':\n",
    "#             ext = 'jpeg'\n",
    "#         return f\"data:image/{ext};base64,{encoded}\"\n",
    "\n",
    "#     def replace_img_tags(match):\n",
    "#         alt_text = match.group(1)\n",
    "#         img_path = match.group(2)\n",
    "#         img_data = image_to_base64(img_path)\n",
    "#         if img_data:\n",
    "#             return f'<img alt=\"{alt_text}\" src=\"{img_data}\"/>'\n",
    "#         else:\n",
    "#             return match.group(0)  # leave unchanged if file not found\n",
    "\n",
    "#     pattern = r'<img\\s+alt=\"([^\"]*)\"\\s+src=\"([^\"]+)\"\\s*/?>'\n",
    "#     return re.sub(pattern, replace_img_tags, html_text)"
   ]
  },
  {
   "cell_type": "code",
   "execution_count": 71,
   "id": "3cca10e9",
   "metadata": {},
   "outputs": [],
   "source": [
    "generatedText = genHTML(insert_audio_html(markdown.markdown(text)))"
   ]
  },
  {
   "cell_type": "code",
   "execution_count": null,
   "id": "1410140a",
   "metadata": {},
   "outputs": [],
   "source": []
  },
  {
   "cell_type": "code",
   "execution_count": 68,
   "id": "c00819fd",
   "metadata": {},
   "outputs": [],
   "source": [
    "# save the generated HTML to a file\n",
    "with open('presentation.html', 'w') as f:\n",
    "    f.write(generatedText)"
   ]
  },
  {
   "cell_type": "code",
   "execution_count": null,
   "id": "6c44b2e1",
   "metadata": {},
   "outputs": [],
   "source": []
  },
  {
   "cell_type": "code",
   "execution_count": null,
   "id": "a314de0c",
   "metadata": {},
   "outputs": [],
   "source": []
  },
  {
   "cell_type": "code",
   "execution_count": null,
   "id": "54ea4083",
   "metadata": {},
   "outputs": [],
   "source": []
  },
  {
   "cell_type": "code",
   "execution_count": null,
   "id": "5138a763",
   "metadata": {},
   "outputs": [],
   "source": []
  },
  {
   "cell_type": "code",
   "execution_count": null,
   "id": "c4fad9f4",
   "metadata": {},
   "outputs": [],
   "source": []
  }
 ],
 "metadata": {
  "kernelspec": {
   "display_name": "Python 3",
   "language": "python",
   "name": "python3"
  },
  "language_info": {
   "codemirror_mode": {
    "name": "ipython",
    "version": 3
   },
   "file_extension": ".py",
   "mimetype": "text/x-python",
   "name": "python",
   "nbconvert_exporter": "python",
   "pygments_lexer": "ipython3",
   "version": "3.10.12"
  }
 },
 "nbformat": 4,
 "nbformat_minor": 5
}
