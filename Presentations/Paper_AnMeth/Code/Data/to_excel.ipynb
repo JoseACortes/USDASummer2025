{
 "cells": [
  {
   "cell_type": "code",
   "execution_count": 1,
   "id": "3e484c93",
   "metadata": {},
   "outputs": [],
   "source": [
    "import pandas as pd"
   ]
  },
  {
   "cell_type": "code",
   "execution_count": 4,
   "id": "ab7f0a9e",
   "metadata": {},
   "outputs": [],
   "source": [
    "detReadings = pd.read_pickle('DetectorReadings.pkl')"
   ]
  },
  {
   "cell_type": "code",
   "execution_count": 8,
   "id": "1598683a",
   "metadata": {},
   "outputs": [],
   "source": [
    "detReadings.to_excel('DetectorReadings.xlsx', index=False)"
   ]
  }
 ],
 "metadata": {
  "kernelspec": {
   "display_name": ".venv",
   "language": "python",
   "name": "python3"
  },
  "language_info": {
   "codemirror_mode": {
    "name": "ipython",
    "version": 3
   },
   "file_extension": ".py",
   "mimetype": "text/x-python",
   "name": "python",
   "nbconvert_exporter": "python",
   "pygments_lexer": "ipython3",
   "version": "3.10.12"
  }
 },
 "nbformat": 4,
 "nbformat_minor": 5
}
