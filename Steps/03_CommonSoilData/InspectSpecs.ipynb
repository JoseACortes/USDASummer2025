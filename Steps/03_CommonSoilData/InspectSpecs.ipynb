{
 "cells": [
  {
   "cell_type": "code",
   "execution_count": 1,
   "id": "bff784fd",
   "metadata": {},
   "outputs": [],
   "source": [
    "import pandas as pd\n",
    "import numpy as np\n",
    "import matplotlib.pyplot as plt\n",
    "import pickle\n",
    "import json"
   ]
  },
  {
   "cell_type": "code",
   "execution_count": 2,
   "id": "033db760",
   "metadata": {},
   "outputs": [
    {
     "data": {
      "application/vnd.microsoft.datawrangler.viewer.v0+json": {
       "columns": [
        {
         "name": "index",
         "rawType": "int64",
         "type": "integer"
        },
        {
         "name": "soil_resolution",
         "rawType": "object",
         "type": "string"
        },
        {
         "name": "function",
         "rawType": "object",
         "type": "string"
        },
        {
         "name": "id",
         "rawType": "int64",
         "type": "integer"
        },
        {
         "name": "filename",
         "rawType": "object",
         "type": "string"
        }
       ],
       "ref": "dcd1277e-350d-4ad8-a5b9-a5ed037c0a7d",
       "rows": [
        [
         "0",
         "7x7x7",
         "C_0060_Silica_Fill",
         "3000",
         "7x7x7_C_0060_Silica_Fill_003000"
        ],
        [
         "1",
         "7x7x7",
         "C_0120_Silica_Fill",
         "3001",
         "7x7x7_C_0120_Silica_Fill_003001"
        ],
        [
         "2",
         "7x7x7",
         "C_0180_Silica_Fill",
         "3002",
         "7x7x7_C_0180_Silica_Fill_003002"
        ],
        [
         "3",
         "7x7x7",
         "C_0240_Silica_Fill",
         "3003",
         "7x7x7_C_0240_Silica_Fill_003003"
        ],
        [
         "4",
         "7x7x7",
         "C_0300_Silica_Fill",
         "3004",
         "7x7x7_C_0300_Silica_Fill_003004"
        ],
        [
         "5",
         "7x7x7",
         "C_0360_Silica_Fill",
         "3005",
         "7x7x7_C_0360_Silica_Fill_003005"
        ],
        [
         "6",
         "7x7x7",
         "C_0420_Silica_Fill",
         "3006",
         "7x7x7_C_0420_Silica_Fill_003006"
        ],
        [
         "7",
         "7x7x7",
         "C_0480_Silica_Fill",
         "3007",
         "7x7x7_C_0480_Silica_Fill_003007"
        ],
        [
         "8",
         "7x7x7",
         "C_0540_Silica_Fill",
         "3008",
         "7x7x7_C_0540_Silica_Fill_003008"
        ],
        [
         "9",
         "7x7x7",
         "C_0600_Silica_Fill",
         "3009",
         "7x7x7_C_0600_Silica_Fill_003009"
        ],
        [
         "10",
         "7x7x7",
         "C_1000_Silica_Fill",
         "3010",
         "7x7x7_C_1000_Silica_Fill_003010"
        ],
        [
         "11",
         "7x7x7",
         "C_2000_Silica_Fill",
         "3011",
         "7x7x7_C_2000_Silica_Fill_003011"
        ],
        [
         "12",
         "7x7x7",
         "C_3000_Silica_Fill",
         "3012",
         "7x7x7_C_3000_Silica_Fill_003012"
        ],
        [
         "13",
         "7x7x7",
         "C_4000_Silica_Fill",
         "3013",
         "7x7x7_C_4000_Silica_Fill_003013"
        ],
        [
         "14",
         "7x7x7",
         "C_5000_Silica_Fill",
         "3014",
         "7x7x7_C_5000_Silica_Fill_003014"
        ],
        [
         "15",
         "7x7x7",
         "C_6000_Silica_Fill",
         "3015",
         "7x7x7_C_6000_Silica_Fill_003015"
        ],
        [
         "16",
         "7x7x7",
         "C_7000_Silica_Fill",
         "3016",
         "7x7x7_C_7000_Silica_Fill_003016"
        ],
        [
         "17",
         "7x7x7",
         "C_8000_Silica_Fill",
         "3017",
         "7x7x7_C_8000_Silica_Fill_003017"
        ],
        [
         "18",
         "7x7x7",
         "C_9000_Silica_Fill",
         "3018",
         "7x7x7_C_9000_Silica_Fill_003018"
        ],
        [
         "19",
         "7x7x7",
         "C_0060_Kaolinite_Fill",
         "3019",
         "7x7x7_C_0060_Kaolinite_Fill_003019"
        ],
        [
         "20",
         "7x7x7",
         "C_0120_Kaolinite_Fill",
         "3020",
         "7x7x7_C_0120_Kaolinite_Fill_003020"
        ],
        [
         "21",
         "7x7x7",
         "C_0180_Kaolinite_Fill",
         "3021",
         "7x7x7_C_0180_Kaolinite_Fill_003021"
        ],
        [
         "22",
         "7x7x7",
         "C_0240_Kaolinite_Fill",
         "3022",
         "7x7x7_C_0240_Kaolinite_Fill_003022"
        ],
        [
         "23",
         "7x7x7",
         "C_0300_Kaolinite_Fill",
         "3023",
         "7x7x7_C_0300_Kaolinite_Fill_003023"
        ],
        [
         "24",
         "7x7x7",
         "C_0360_Kaolinite_Fill",
         "3024",
         "7x7x7_C_0360_Kaolinite_Fill_003024"
        ],
        [
         "25",
         "7x7x7",
         "C_0420_Kaolinite_Fill",
         "3025",
         "7x7x7_C_0420_Kaolinite_Fill_003025"
        ],
        [
         "26",
         "7x7x7",
         "C_0480_Kaolinite_Fill",
         "3026",
         "7x7x7_C_0480_Kaolinite_Fill_003026"
        ],
        [
         "27",
         "7x7x7",
         "C_0540_Kaolinite_Fill",
         "3027",
         "7x7x7_C_0540_Kaolinite_Fill_003027"
        ],
        [
         "28",
         "7x7x7",
         "C_0600_Kaolinite_Fill",
         "3028",
         "7x7x7_C_0600_Kaolinite_Fill_003028"
        ],
        [
         "29",
         "7x7x7",
         "C_1000_Kaolinite_Fill",
         "3029",
         "7x7x7_C_1000_Kaolinite_Fill_003029"
        ],
        [
         "30",
         "7x7x7",
         "C_2000_Kaolinite_Fill",
         "3030",
         "7x7x7_C_2000_Kaolinite_Fill_003030"
        ],
        [
         "31",
         "7x7x7",
         "C_3000_Kaolinite_Fill",
         "3031",
         "7x7x7_C_3000_Kaolinite_Fill_003031"
        ],
        [
         "32",
         "7x7x7",
         "C_4000_Kaolinite_Fill",
         "3032",
         "7x7x7_C_4000_Kaolinite_Fill_003032"
        ],
        [
         "33",
         "7x7x7",
         "C_5000_Kaolinite_Fill",
         "3033",
         "7x7x7_C_5000_Kaolinite_Fill_003033"
        ],
        [
         "34",
         "7x7x7",
         "C_6000_Kaolinite_Fill",
         "3034",
         "7x7x7_C_6000_Kaolinite_Fill_003034"
        ],
        [
         "35",
         "7x7x7",
         "C_7000_Kaolinite_Fill",
         "3035",
         "7x7x7_C_7000_Kaolinite_Fill_003035"
        ],
        [
         "36",
         "7x7x7",
         "C_8000_Kaolinite_Fill",
         "3036",
         "7x7x7_C_8000_Kaolinite_Fill_003036"
        ],
        [
         "37",
         "7x7x7",
         "C_9000_Kaolinite_Fill",
         "3037",
         "7x7x7_C_9000_Kaolinite_Fill_003037"
        ],
        [
         "38",
         "7x7x7",
         "C_0060_Smectite_Fill",
         "3038",
         "7x7x7_C_0060_Smectite_Fill_003038"
        ],
        [
         "39",
         "7x7x7",
         "C_0120_Smectite_Fill",
         "3039",
         "7x7x7_C_0120_Smectite_Fill_003039"
        ],
        [
         "40",
         "7x7x7",
         "C_0180_Smectite_Fill",
         "3040",
         "7x7x7_C_0180_Smectite_Fill_003040"
        ],
        [
         "41",
         "7x7x7",
         "C_0240_Smectite_Fill",
         "3041",
         "7x7x7_C_0240_Smectite_Fill_003041"
        ],
        [
         "42",
         "7x7x7",
         "C_0300_Smectite_Fill",
         "3042",
         "7x7x7_C_0300_Smectite_Fill_003042"
        ],
        [
         "43",
         "7x7x7",
         "C_0360_Smectite_Fill",
         "3043",
         "7x7x7_C_0360_Smectite_Fill_003043"
        ],
        [
         "44",
         "7x7x7",
         "C_0420_Smectite_Fill",
         "3044",
         "7x7x7_C_0420_Smectite_Fill_003044"
        ],
        [
         "45",
         "7x7x7",
         "C_0480_Smectite_Fill",
         "3045",
         "7x7x7_C_0480_Smectite_Fill_003045"
        ],
        [
         "46",
         "7x7x7",
         "C_0540_Smectite_Fill",
         "3046",
         "7x7x7_C_0540_Smectite_Fill_003046"
        ],
        [
         "47",
         "7x7x7",
         "C_0600_Smectite_Fill",
         "3047",
         "7x7x7_C_0600_Smectite_Fill_003047"
        ],
        [
         "48",
         "7x7x7",
         "C_1000_Smectite_Fill",
         "3048",
         "7x7x7_C_1000_Smectite_Fill_003048"
        ],
        [
         "49",
         "7x7x7",
         "C_2000_Smectite_Fill",
         "3049",
         "7x7x7_C_2000_Smectite_Fill_003049"
        ]
       ],
       "shape": {
        "columns": 4,
        "rows": 152
       }
      },
      "text/html": [
       "<div>\n",
       "<style scoped>\n",
       "    .dataframe tbody tr th:only-of-type {\n",
       "        vertical-align: middle;\n",
       "    }\n",
       "\n",
       "    .dataframe tbody tr th {\n",
       "        vertical-align: top;\n",
       "    }\n",
       "\n",
       "    .dataframe thead th {\n",
       "        text-align: right;\n",
       "    }\n",
       "</style>\n",
       "<table border=\"1\" class=\"dataframe\">\n",
       "  <thead>\n",
       "    <tr style=\"text-align: right;\">\n",
       "      <th></th>\n",
       "      <th>soil_resolution</th>\n",
       "      <th>function</th>\n",
       "      <th>id</th>\n",
       "      <th>filename</th>\n",
       "    </tr>\n",
       "  </thead>\n",
       "  <tbody>\n",
       "    <tr>\n",
       "      <th>0</th>\n",
       "      <td>7x7x7</td>\n",
       "      <td>C_0060_Silica_Fill</td>\n",
       "      <td>3000</td>\n",
       "      <td>7x7x7_C_0060_Silica_Fill_003000</td>\n",
       "    </tr>\n",
       "    <tr>\n",
       "      <th>1</th>\n",
       "      <td>7x7x7</td>\n",
       "      <td>C_0120_Silica_Fill</td>\n",
       "      <td>3001</td>\n",
       "      <td>7x7x7_C_0120_Silica_Fill_003001</td>\n",
       "    </tr>\n",
       "    <tr>\n",
       "      <th>2</th>\n",
       "      <td>7x7x7</td>\n",
       "      <td>C_0180_Silica_Fill</td>\n",
       "      <td>3002</td>\n",
       "      <td>7x7x7_C_0180_Silica_Fill_003002</td>\n",
       "    </tr>\n",
       "    <tr>\n",
       "      <th>3</th>\n",
       "      <td>7x7x7</td>\n",
       "      <td>C_0240_Silica_Fill</td>\n",
       "      <td>3003</td>\n",
       "      <td>7x7x7_C_0240_Silica_Fill_003003</td>\n",
       "    </tr>\n",
       "    <tr>\n",
       "      <th>4</th>\n",
       "      <td>7x7x7</td>\n",
       "      <td>C_0300_Silica_Fill</td>\n",
       "      <td>3004</td>\n",
       "      <td>7x7x7_C_0300_Silica_Fill_003004</td>\n",
       "    </tr>\n",
       "    <tr>\n",
       "      <th>...</th>\n",
       "      <td>...</td>\n",
       "      <td>...</td>\n",
       "      <td>...</td>\n",
       "      <td>...</td>\n",
       "    </tr>\n",
       "    <tr>\n",
       "      <th>147</th>\n",
       "      <td>7x7x7</td>\n",
       "      <td>C_5000_Feldspar_Fill</td>\n",
       "      <td>3147</td>\n",
       "      <td>7x7x7_C_5000_Feldspar_Fill_003147</td>\n",
       "    </tr>\n",
       "    <tr>\n",
       "      <th>148</th>\n",
       "      <td>7x7x7</td>\n",
       "      <td>C_6000_Feldspar_Fill</td>\n",
       "      <td>3148</td>\n",
       "      <td>7x7x7_C_6000_Feldspar_Fill_003148</td>\n",
       "    </tr>\n",
       "    <tr>\n",
       "      <th>149</th>\n",
       "      <td>7x7x7</td>\n",
       "      <td>C_7000_Feldspar_Fill</td>\n",
       "      <td>3149</td>\n",
       "      <td>7x7x7_C_7000_Feldspar_Fill_003149</td>\n",
       "    </tr>\n",
       "    <tr>\n",
       "      <th>150</th>\n",
       "      <td>7x7x7</td>\n",
       "      <td>C_8000_Feldspar_Fill</td>\n",
       "      <td>3150</td>\n",
       "      <td>7x7x7_C_8000_Feldspar_Fill_003150</td>\n",
       "    </tr>\n",
       "    <tr>\n",
       "      <th>151</th>\n",
       "      <td>7x7x7</td>\n",
       "      <td>C_9000_Feldspar_Fill</td>\n",
       "      <td>3151</td>\n",
       "      <td>7x7x7_C_9000_Feldspar_Fill_003151</td>\n",
       "    </tr>\n",
       "  </tbody>\n",
       "</table>\n",
       "<p>152 rows × 4 columns</p>\n",
       "</div>"
      ],
      "text/plain": [
       "    soil_resolution              function    id  \\\n",
       "0             7x7x7    C_0060_Silica_Fill  3000   \n",
       "1             7x7x7    C_0120_Silica_Fill  3001   \n",
       "2             7x7x7    C_0180_Silica_Fill  3002   \n",
       "3             7x7x7    C_0240_Silica_Fill  3003   \n",
       "4             7x7x7    C_0300_Silica_Fill  3004   \n",
       "..              ...                   ...   ...   \n",
       "147           7x7x7  C_5000_Feldspar_Fill  3147   \n",
       "148           7x7x7  C_6000_Feldspar_Fill  3148   \n",
       "149           7x7x7  C_7000_Feldspar_Fill  3149   \n",
       "150           7x7x7  C_8000_Feldspar_Fill  3150   \n",
       "151           7x7x7  C_9000_Feldspar_Fill  3151   \n",
       "\n",
       "                              filename  \n",
       "0      7x7x7_C_0060_Silica_Fill_003000  \n",
       "1      7x7x7_C_0120_Silica_Fill_003001  \n",
       "2      7x7x7_C_0180_Silica_Fill_003002  \n",
       "3      7x7x7_C_0240_Silica_Fill_003003  \n",
       "4      7x7x7_C_0300_Silica_Fill_003004  \n",
       "..                                 ...  \n",
       "147  7x7x7_C_5000_Feldspar_Fill_003147  \n",
       "148  7x7x7_C_6000_Feldspar_Fill_003148  \n",
       "149  7x7x7_C_7000_Feldspar_Fill_003149  \n",
       "150  7x7x7_C_8000_Feldspar_Fill_003150  \n",
       "151  7x7x7_C_9000_Feldspar_Fill_003151  \n",
       "\n",
       "[152 rows x 4 columns]"
      ]
     },
     "execution_count": 2,
     "metadata": {},
     "output_type": "execute_result"
    }
   ],
   "source": [
    "sims_filename = \"sims_03.csv\"\n",
    "sims_df = pd.read_csv(sims_filename)\n",
    "# sims_df = sims_df.iloc[:9]\n",
    "sims_df"
   ]
  },
  {
   "cell_type": "code",
   "execution_count": 3,
   "id": "506ff1d0",
   "metadata": {},
   "outputs": [],
   "source": [
    "carbon_levels = np.linspace(0, 0.06, 11)\n",
    "max_carbon = np.max(carbon_levels)\n",
    "carbon_levels = carbon_levels[:8]"
   ]
  },
  {
   "cell_type": "code",
   "execution_count": 4,
   "id": "e567cd82",
   "metadata": {},
   "outputs": [
    {
     "data": {
      "application/vnd.microsoft.datawrangler.viewer.v0+json": {
       "columns": [
        {
         "name": "index",
         "rawType": "int64",
         "type": "integer"
        },
        {
         "name": "soil_resolution",
         "rawType": "object",
         "type": "string"
        }
       ],
       "ref": "da8ac6d9-336c-47c0-a0eb-6287037fd8f8",
       "rows": [
        [
         "0",
         "ResInfo/res_info_7x7x7.json"
        ],
        [
         "1",
         "ResInfo/res_info_7x7x7.json"
        ],
        [
         "2",
         "ResInfo/res_info_7x7x7.json"
        ],
        [
         "3",
         "ResInfo/res_info_7x7x7.json"
        ],
        [
         "4",
         "ResInfo/res_info_7x7x7.json"
        ],
        [
         "5",
         "ResInfo/res_info_7x7x7.json"
        ],
        [
         "6",
         "ResInfo/res_info_7x7x7.json"
        ],
        [
         "7",
         "ResInfo/res_info_7x7x7.json"
        ],
        [
         "8",
         "ResInfo/res_info_7x7x7.json"
        ],
        [
         "9",
         "ResInfo/res_info_7x7x7.json"
        ],
        [
         "10",
         "ResInfo/res_info_7x7x7.json"
        ],
        [
         "11",
         "ResInfo/res_info_7x7x7.json"
        ],
        [
         "12",
         "ResInfo/res_info_7x7x7.json"
        ],
        [
         "13",
         "ResInfo/res_info_7x7x7.json"
        ],
        [
         "14",
         "ResInfo/res_info_7x7x7.json"
        ],
        [
         "15",
         "ResInfo/res_info_7x7x7.json"
        ],
        [
         "16",
         "ResInfo/res_info_7x7x7.json"
        ],
        [
         "17",
         "ResInfo/res_info_7x7x7.json"
        ],
        [
         "18",
         "ResInfo/res_info_7x7x7.json"
        ],
        [
         "19",
         "ResInfo/res_info_7x7x7.json"
        ],
        [
         "20",
         "ResInfo/res_info_7x7x7.json"
        ],
        [
         "21",
         "ResInfo/res_info_7x7x7.json"
        ],
        [
         "22",
         "ResInfo/res_info_7x7x7.json"
        ],
        [
         "23",
         "ResInfo/res_info_7x7x7.json"
        ],
        [
         "24",
         "ResInfo/res_info_7x7x7.json"
        ],
        [
         "25",
         "ResInfo/res_info_7x7x7.json"
        ],
        [
         "26",
         "ResInfo/res_info_7x7x7.json"
        ],
        [
         "27",
         "ResInfo/res_info_7x7x7.json"
        ],
        [
         "28",
         "ResInfo/res_info_7x7x7.json"
        ],
        [
         "29",
         "ResInfo/res_info_7x7x7.json"
        ],
        [
         "30",
         "ResInfo/res_info_7x7x7.json"
        ],
        [
         "31",
         "ResInfo/res_info_7x7x7.json"
        ],
        [
         "32",
         "ResInfo/res_info_7x7x7.json"
        ],
        [
         "33",
         "ResInfo/res_info_7x7x7.json"
        ],
        [
         "34",
         "ResInfo/res_info_7x7x7.json"
        ],
        [
         "35",
         "ResInfo/res_info_7x7x7.json"
        ],
        [
         "36",
         "ResInfo/res_info_7x7x7.json"
        ],
        [
         "37",
         "ResInfo/res_info_7x7x7.json"
        ],
        [
         "38",
         "ResInfo/res_info_7x7x7.json"
        ],
        [
         "39",
         "ResInfo/res_info_7x7x7.json"
        ],
        [
         "40",
         "ResInfo/res_info_7x7x7.json"
        ],
        [
         "41",
         "ResInfo/res_info_7x7x7.json"
        ],
        [
         "42",
         "ResInfo/res_info_7x7x7.json"
        ],
        [
         "43",
         "ResInfo/res_info_7x7x7.json"
        ],
        [
         "44",
         "ResInfo/res_info_7x7x7.json"
        ],
        [
         "45",
         "ResInfo/res_info_7x7x7.json"
        ],
        [
         "46",
         "ResInfo/res_info_7x7x7.json"
        ],
        [
         "47",
         "ResInfo/res_info_7x7x7.json"
        ],
        [
         "48",
         "ResInfo/res_info_7x7x7.json"
        ],
        [
         "49",
         "ResInfo/res_info_7x7x7.json"
        ]
       ],
       "shape": {
        "columns": 1,
        "rows": 152
       }
      },
      "text/plain": [
       "0      ResInfo/res_info_7x7x7.json\n",
       "1      ResInfo/res_info_7x7x7.json\n",
       "2      ResInfo/res_info_7x7x7.json\n",
       "3      ResInfo/res_info_7x7x7.json\n",
       "4      ResInfo/res_info_7x7x7.json\n",
       "                  ...             \n",
       "147    ResInfo/res_info_7x7x7.json\n",
       "148    ResInfo/res_info_7x7x7.json\n",
       "149    ResInfo/res_info_7x7x7.json\n",
       "150    ResInfo/res_info_7x7x7.json\n",
       "151    ResInfo/res_info_7x7x7.json\n",
       "Name: soil_resolution, Length: 152, dtype: object"
      ]
     },
     "execution_count": 4,
     "metadata": {},
     "output_type": "execute_result"
    }
   ],
   "source": [
    "pickle_files = 'specs/'+sims_df['filename']+'.pkl'\n",
    "soil_resolutions = sims_df['soil_resolution']\n",
    "res_info_files = 'ResInfo/res_info_'+soil_resolutions+'.json'\n",
    "res_info_files"
   ]
  },
  {
   "cell_type": "code",
   "execution_count": 5,
   "id": "eb38e211",
   "metadata": {},
   "outputs": [
    {
     "data": {
      "text/plain": [
       "[808, 818, 828, 834, 836, 844, 846]"
      ]
     },
     "execution_count": 5,
     "metadata": {},
     "output_type": "execute_result"
    }
   ],
   "source": [
    "res_infos = [json.load(open(res_info_file, 'r')) for res_info_file in res_info_files]\n",
    "detector_tally_idss = [[int(r) for r in res_info['detector_tally_ids']] for res_info in res_infos]\n",
    "detector_tally_idss[0]"
   ]
  },
  {
   "cell_type": "code",
   "execution_count": 6,
   "id": "6dbdf307",
   "metadata": {},
   "outputs": [],
   "source": [
    "# tally_t = 1\n",
    "# tally_data = [pickle.load(open(pickle_file, 'rb')) for pickle_file in pickle_files]\n",
    "# tally_binss = [td[0] for td in tally_data]\n",
    "# tally_spetra = [td[1] for td in tally_data]\n",
    "# detector_bins = [bins[tally_t][-2] for bins in tally_binss]\n",
    "# detector_spectra = [spec[tally_t] for spec in tally_spetra]"
   ]
  },
  {
   "cell_type": "code",
   "execution_count": 7,
   "id": "3986dd37",
   "metadata": {},
   "outputs": [],
   "source": [
    "# plt.figure(figsize=(10, 6))\n",
    "# for i, detector_spectrum in enumerate(detector_spectra):\n",
    "#     detector_energy_bins = detector_bins[i]\n",
    "#     plt.plot(\n",
    "#         detector_energy_bins, \n",
    "#         detector_spectrum.flatten(), \n",
    "#         label=sims_df['filename'][i],\n",
    "#         color=plt.cm.jet(carbon_levels[i]/max_carbon)\n",
    "#         )\n",
    "# plt.xlabel('Energy (MeV)')\n",
    "# plt.ylabel('Probability')\n",
    "# plt.title('Detector Spectrum for ' + sims_df['filename'][i])\n",
    "# plt.legend()\n",
    "# plt.yscale('log')\n",
    "# plt.ylim(6e-7, 2e-6)\n",
    "# plt.xlim(4, 5)\n",
    "# plt.show()"
   ]
  },
  {
   "cell_type": "code",
   "execution_count": 8,
   "id": "d0a54b50",
   "metadata": {},
   "outputs": [
    {
     "data": {
      "text/plain": [
       "array([14028., 13027.,  1001., 11023.,  8016., 26000., 12024.,  6000.])"
      ]
     },
     "execution_count": 8,
     "metadata": {},
     "output_type": "execute_result"
    }
   ],
   "source": [
    "pd.read_csv(('ElemMaps/ELEMS_'+sims_df['filename']+'.csv')[0]).values[:, 0]"
   ]
  },
  {
   "cell_type": "code",
   "execution_count": 9,
   "id": "2b7cd602",
   "metadata": {},
   "outputs": [
    {
     "data": {
      "application/vnd.microsoft.datawrangler.viewer.v0+json": {
       "columns": [
        {
         "name": "index",
         "rawType": "int64",
         "type": "integer"
        },
        {
         "name": "filename",
         "rawType": "object",
         "type": "string"
        }
       ],
       "ref": "6e1ce42a-8840-45bb-90be-baf967da02b3",
       "rows": [
        [
         "0",
         "7x7x7_C_0060_Silica_Fill_003000"
        ],
        [
         "1",
         "7x7x7_C_0120_Silica_Fill_003001"
        ],
        [
         "2",
         "7x7x7_C_0180_Silica_Fill_003002"
        ],
        [
         "3",
         "7x7x7_C_0240_Silica_Fill_003003"
        ],
        [
         "4",
         "7x7x7_C_0300_Silica_Fill_003004"
        ],
        [
         "5",
         "7x7x7_C_0360_Silica_Fill_003005"
        ],
        [
         "6",
         "7x7x7_C_0420_Silica_Fill_003006"
        ],
        [
         "7",
         "7x7x7_C_0480_Silica_Fill_003007"
        ],
        [
         "8",
         "7x7x7_C_0540_Silica_Fill_003008"
        ],
        [
         "9",
         "7x7x7_C_0600_Silica_Fill_003009"
        ],
        [
         "10",
         "7x7x7_C_1000_Silica_Fill_003010"
        ],
        [
         "11",
         "7x7x7_C_2000_Silica_Fill_003011"
        ],
        [
         "12",
         "7x7x7_C_3000_Silica_Fill_003012"
        ],
        [
         "13",
         "7x7x7_C_4000_Silica_Fill_003013"
        ],
        [
         "14",
         "7x7x7_C_5000_Silica_Fill_003014"
        ],
        [
         "15",
         "7x7x7_C_6000_Silica_Fill_003015"
        ],
        [
         "16",
         "7x7x7_C_7000_Silica_Fill_003016"
        ],
        [
         "17",
         "7x7x7_C_8000_Silica_Fill_003017"
        ],
        [
         "18",
         "7x7x7_C_9000_Silica_Fill_003018"
        ],
        [
         "19",
         "7x7x7_C_0060_Kaolinite_Fill_003019"
        ],
        [
         "20",
         "7x7x7_C_0120_Kaolinite_Fill_003020"
        ],
        [
         "21",
         "7x7x7_C_0180_Kaolinite_Fill_003021"
        ],
        [
         "22",
         "7x7x7_C_0240_Kaolinite_Fill_003022"
        ],
        [
         "23",
         "7x7x7_C_0300_Kaolinite_Fill_003023"
        ],
        [
         "24",
         "7x7x7_C_0360_Kaolinite_Fill_003024"
        ],
        [
         "25",
         "7x7x7_C_0420_Kaolinite_Fill_003025"
        ],
        [
         "26",
         "7x7x7_C_0480_Kaolinite_Fill_003026"
        ],
        [
         "27",
         "7x7x7_C_0540_Kaolinite_Fill_003027"
        ],
        [
         "28",
         "7x7x7_C_0600_Kaolinite_Fill_003028"
        ],
        [
         "29",
         "7x7x7_C_1000_Kaolinite_Fill_003029"
        ],
        [
         "30",
         "7x7x7_C_2000_Kaolinite_Fill_003030"
        ],
        [
         "31",
         "7x7x7_C_3000_Kaolinite_Fill_003031"
        ],
        [
         "32",
         "7x7x7_C_4000_Kaolinite_Fill_003032"
        ],
        [
         "33",
         "7x7x7_C_5000_Kaolinite_Fill_003033"
        ],
        [
         "34",
         "7x7x7_C_6000_Kaolinite_Fill_003034"
        ],
        [
         "35",
         "7x7x7_C_7000_Kaolinite_Fill_003035"
        ],
        [
         "36",
         "7x7x7_C_8000_Kaolinite_Fill_003036"
        ],
        [
         "37",
         "7x7x7_C_9000_Kaolinite_Fill_003037"
        ],
        [
         "38",
         "7x7x7_C_0060_Smectite_Fill_003038"
        ],
        [
         "39",
         "7x7x7_C_0120_Smectite_Fill_003039"
        ],
        [
         "40",
         "7x7x7_C_0180_Smectite_Fill_003040"
        ],
        [
         "41",
         "7x7x7_C_0240_Smectite_Fill_003041"
        ],
        [
         "42",
         "7x7x7_C_0300_Smectite_Fill_003042"
        ],
        [
         "43",
         "7x7x7_C_0360_Smectite_Fill_003043"
        ],
        [
         "44",
         "7x7x7_C_0420_Smectite_Fill_003044"
        ],
        [
         "45",
         "7x7x7_C_0480_Smectite_Fill_003045"
        ],
        [
         "46",
         "7x7x7_C_0540_Smectite_Fill_003046"
        ],
        [
         "47",
         "7x7x7_C_0600_Smectite_Fill_003047"
        ],
        [
         "48",
         "7x7x7_C_1000_Smectite_Fill_003048"
        ],
        [
         "49",
         "7x7x7_C_2000_Smectite_Fill_003049"
        ]
       ],
       "shape": {
        "columns": 1,
        "rows": 152
       }
      },
      "text/plain": [
       "0        7x7x7_C_0060_Silica_Fill_003000\n",
       "1        7x7x7_C_0120_Silica_Fill_003001\n",
       "2        7x7x7_C_0180_Silica_Fill_003002\n",
       "3        7x7x7_C_0240_Silica_Fill_003003\n",
       "4        7x7x7_C_0300_Silica_Fill_003004\n",
       "                     ...                \n",
       "147    7x7x7_C_5000_Feldspar_Fill_003147\n",
       "148    7x7x7_C_6000_Feldspar_Fill_003148\n",
       "149    7x7x7_C_7000_Feldspar_Fill_003149\n",
       "150    7x7x7_C_8000_Feldspar_Fill_003150\n",
       "151    7x7x7_C_9000_Feldspar_Fill_003151\n",
       "Name: filename, Length: 152, dtype: object"
      ]
     },
     "execution_count": 9,
     "metadata": {},
     "output_type": "execute_result"
    }
   ],
   "source": [
    "sims_df['filename']"
   ]
  },
  {
   "cell_type": "code",
   "execution_count": 10,
   "id": "50446759",
   "metadata": {},
   "outputs": [
    {
     "data": {
      "text/plain": [
       "(8, 152)"
      ]
     },
     "execution_count": 10,
     "metadata": {},
     "output_type": "execute_result"
    }
   ],
   "source": [
    "np.array([pd.read_csv(file).values[:, 1] for file in 'ElemMaps/ELEMS_'+sims_df['filename']+'.csv']).T.shape"
   ]
  },
  {
   "cell_type": "code",
   "execution_count": 11,
   "id": "9aac5dc2",
   "metadata": {},
   "outputs": [],
   "source": [
    "# make a data frame for the elemental maps\n",
    "makeups = pd.DataFrame(np.array([pd.read_csv(file).values[:, 1] for file in 'ElemMaps/ELEMS_'+sims_df['filename']+'.csv']), columns=pd.read_csv(('ElemMaps/ELEMS_'+sims_df['filename']+'.csv')[0]).values[:, 0], index=sims_df['filename'])"
   ]
  },
  {
   "cell_type": "code",
   "execution_count": 12,
   "id": "eda3b678",
   "metadata": {},
   "outputs": [],
   "source": [
    "makeups.to_excel('soil_makeups.xlsx')"
   ]
  },
  {
   "cell_type": "code",
   "execution_count": 19,
   "id": "024ccea5",
   "metadata": {},
   "outputs": [
    {
     "data": {
      "text/plain": [
       "1.2683799999999963"
      ]
     },
     "execution_count": 19,
     "metadata": {},
     "output_type": "execute_result"
    }
   ],
   "source": [
    "sum([0.45069312950418505,0.15782441526917365,0.0,0.0,0.6538624552266376,0.0,0.0,0.005999999999999998])"
   ]
  }
 ],
 "metadata": {
  "kernelspec": {
   "display_name": "Python 3",
   "language": "python",
   "name": "python3"
  },
  "language_info": {
   "codemirror_mode": {
    "name": "ipython",
    "version": 3
   },
   "file_extension": ".py",
   "mimetype": "text/x-python",
   "name": "python",
   "nbconvert_exporter": "python",
   "pygments_lexer": "ipython3",
   "version": "3.10.12"
  }
 },
 "nbformat": 4,
 "nbformat_minor": 5
}
