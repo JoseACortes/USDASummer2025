{
 "cells": [
  {
   "cell_type": "code",
   "execution_count": null,
   "metadata": {},
   "outputs": [],
   "source": []
  },
  {
   "cell_type": "code",
   "execution_count": 1,
   "metadata": {},
   "outputs": [],
   "source": [
    "import input_generator as gen"
   ]
  },
  {
   "cell_type": "code",
   "execution_count": 2,
   "metadata": {},
   "outputs": [],
   "source": [
    "input_folder = '../../compute/input/'"
   ]
  },
  {
   "cell_type": "code",
   "execution_count": null,
   "metadata": {},
   "outputs": [],
   "source": []
  },
  {
   "cell_type": "code",
   "execution_count": 3,
   "metadata": {},
   "outputs": [],
   "source": [
    "# c ********************\n",
    "# c begin material cards\n",
    "# c ********************\n",
    "# c Mix Mo=15 *******************************\n",
    "# m1\t14000\t-0.2032\t$Silicon\n",
    "# \t13027\t-0.1611\t$Aluminum\n",
    "# \t26000\t-0.0315\t$Iron\n",
    "# \t6000\t-0.0870\t$Carbon\n",
    "# \t8016\t-0.5027\t$Oxygen\n",
    "# \t1001\t-0.0145\t$Hydrogen\n",
    "# c  **********************************\n",
    "# m5\t82207 1 $Lead\n",
    "# c ****************************************\n",
    "# c\tLaBr detector\n",
    "# c ****************************************\n",
    "# m7       35079    -0.2946\t$ Br79\n",
    "# \t 35081\t  -0.3069       $ Br81\n",
    "#   \t 57139    -0.3485\t$ La139\n",
    "# \t 58140    -0.0500 \t$ Ce140\n",
    "# c ****************************************\n",
    "# c m7       35079\t-0.316063    $ Br79 \n",
    "# c\t   35081\t-0.315242    $ Br81 \n",
    "# c \t   58136\t-0.000066    $ Ce136\n",
    "# c\t   58138\t-0.000090    $ Ce138\n",
    "# c\t   58140\t-0.032308    $ Ce140\n",
    "# c\t   58142\t-0.004118    $ Ce142\n",
    "# c\t   57138.80c    -0.000293    $ La138\n",
    "# c\t   57139.80c\t-0.331817    $ La139\n",
    "# c ************ air den=1.15e-3g/cc********\n",
    "# m12     8016 -0.23\n",
    "#         7014 -0.77"
   ]
  },
  {
   "cell_type": "code",
   "execution_count": 4,
   "metadata": {},
   "outputs": [],
   "source": [
    "LaBr_detector = gen.Material(\"Detector\", 7, {\n",
    "                                                        35079: -0.2946,\n",
    "                                                        35081: -0.3069,\n",
    "                                                        57139: -0.3485,\n",
    "                                                        58140: -0.0500\n",
    "                                                        })\n",
    "\n",
    "Mo_15 = gen.Material(\"Mo_15\", 1, {\n",
    "                                    14000: -0.2032,\n",
    "                                    13027: -0.1611,\n",
    "                                    26000: -0.0315,\n",
    "                                    6000: -0.0870,\n",
    "                                    8016: -0.5027,\n",
    "                                    1001: -0.0145\n",
    "                                    })\n",
    "\n",
    "Pb = gen.Material(\"Pb\", 5, {\n",
    "                            82207: 1\n",
    "                            })\n",
    "\n",
    "air = gen.Material(\"Air\", 12, {\n",
    "                                8016: -0.23,\n",
    "                                7014: -0.77\n",
    "                                })\n",
    "\n",
    "materials = [LaBr_detector, Mo_15, Pb, air]"
   ]
  },
  {
   "cell_type": "code",
   "execution_count": 5,
   "metadata": {},
   "outputs": [],
   "source": [
    "# c SURFACE CARDS\n",
    "# c\n",
    "# c %%%%%%%%%%%\n",
    "# c Sample Volume\n",
    "# c %%%%%%%%%%%\n",
    "# 1 rcc 0.0 0.0 48.0  0.0 0.0 76.0  45 $30 - distance source-surface, 60 - thickness, 50 - radius\n",
    "# c 1 rpp -500 500 -500 500 48 348 $Soil xmin xmax ymin ymax zmin zmax\n",
    "# c %%%%%%%%%%%%%%%%%%%%%%%%%%%%%%%%%%%%%%%%\n",
    "# c Active Detector Region\n",
    "# c %%%%%%%%%%%%%%%%%%%%%%%%%%%%%%%%%%%%%%%%\n",
    "# 21 rcc -10.2  45.5 20.3   20.3 0.0 0.0   4.5 $Detector 1 Base center, Hx,Hy,Hz, radius \n",
    "# 22 rcc -10.2 -45.5 20.3   20.3 0.0 0.0   4.5 $Detector 2\n",
    "# c %%%%%%%%%%%%%%%%%%%%%%%%%%%%%%%%%%%%%%%%%\n",
    "# c Shielding Pb\n",
    "# c %%%%%%%%%%%%%%%%%%%%%%%%%%%%%%%%%%%%%%%\n",
    "# 31 rpp -20.3 20.3 7.6 33 2.54 15.2 $Pb xmin xmax ymin ymax zmin zmax\n",
    "# 32 rpp -20.3 20.3 -33 -7.6 2.54 15.2 $Pb xmin xmax ymin ymax zmin zmax\n",
    "# c ************************\n",
    "# 200 so 1500"
   ]
  },
  {
   "cell_type": "code",
   "execution_count": 6,
   "metadata": {},
   "outputs": [],
   "source": [
    "soil = gen.cylinder(1, pos = (0.0, 0.0, 48.0), dir = (0.0, 0.0, 1), r=45, height=45)\n",
    "detector1 = gen.cylinder(21, pos = (-10.2, 45.5, 20.3), dir = (1, 0, 0), r=4.5, height=20.3)\n",
    "detector2 = gen.cylinder(22, pos = (-10.2, -45.5, 20.3), dir = (1, 0, 0), r=4.5, height=20.3)\n",
    "sheilding1 = gen.rpp(31, min = (-20.3, 7.6, 2.54), max = (20.3, 33, 15.2))\n",
    "sheilding2 = gen.rpp(32, min = (-20.3, -33, 2.54), max = (20.3, -7.6, 15.2))\n",
    "world = gen.sphere(200, pos = (0, 0, 0), r = 1500)\n",
    "\n",
    "surfaces = [soil, detector1, detector2, sheilding1, sheilding2, world]"
   ]
  },
  {
   "cell_type": "code",
   "execution_count": 7,
   "metadata": {},
   "outputs": [],
   "source": [
    "# c @@@@@@@@@@ Detectors @@@@@@@@@@@@@@@@@\n",
    "# c\n",
    "# 101 7 -5.08 -21 imp:n,p 1 $LaBr Detector #1 Active Region\n",
    "# 102 7 -5.08 -22 imp:n,p 1 $LaBr Detector #2 Active Region\n",
    "# c\n",
    "# c @@@@@@@@@ Shielding @@@@@@@@@@@@@@@@@\n",
    "# c\n",
    "# 121 5 -11.29 -31 imp:n,p 1 $Pb1\n",
    "# 122 5 -11.29 -32 imp:n,p 1 $Pb2\n",
    "# c\n",
    "# c @@@@@@@@@@ SOIL VOLUME @@@@@@@@@@@\n",
    "# c\n",
    "# 20 1 -1.542 -1 imp:n,p 1 $ SOIL VOLUME\n",
    "# c\n",
    "# 30 12 -0.00129 -200 #101 #102 #121 #122 #20    imp:n,p 1 $Rest of the World\n",
    "# 31 0 200 imp:n,p 0 $Outside world"
   ]
  },
  {
   "cell_type": "code",
   "execution_count": 8,
   "metadata": {},
   "outputs": [],
   "source": [
    "# class cell():\n",
    "#     def __init__(self, cell_id, name, material, density, surfaces, importance=None):\n",
    "#         self.cell_id = cell_id\n",
    "#         self.name = name\n",
    "#         self.material = material\n",
    "#         self.density = density\n",
    "#         self.surfaces = surfaces\n",
    "#         self.importance = importance"
   ]
  },
  {
   "cell_type": "code",
   "execution_count": 9,
   "metadata": {},
   "outputs": [],
   "source": [
    "outside_world = gen.cell(31, 'outside_world', 0, None, '200', importance='imp:n,p 0')\n",
    "rest_of_the_world = gen.cell(30, 'rest_of_the_world', air.id, -0.00129, '-200 #101 #102 #121 #122 #20', importance='imp:n,p 1')\n",
    "soil_cell = gen.cell(20, 'soil', Mo_15.id, 1.542, '-1', importance='imp:n,p 1')\n",
    "detector1_cell = gen.cell(101, 'detector1', LaBr_detector.id, 5.08, '-21', importance='imp:n,p 1')\n",
    "detector2_cell = gen.cell(102, 'detector2', LaBr_detector.id, 5.08, '-22', importance='imp:n,p 1')\n",
    "sheilding1_cell = gen.cell(121, 'sheilding1', Pb.id, 11.29, '-31', importance='imp:n,p 1')\n",
    "sheilding2_cell = gen.cell(122, 'sheilding2', Pb.id, 11.29, '-32', importance='imp:n,p 1')\n",
    "\n",
    "cells = [outside_world, rest_of_the_world, soil_cell, detector1_cell, detector2_cell, sheilding1_cell, sheilding2_cell]"
   ]
  },
  {
   "cell_type": "code",
   "execution_count": 10,
   "metadata": {},
   "outputs": [],
   "source": [
    "gebs = [None, [-0.026198, 0.059551, -0.037176]]\n",
    "time_bins = ['50 1e5','0 150i 150']\n",
    "tmcs = [None, [0,50]]\n",
    "\n",
    "n_tallies = len(gebs) * len(time_bins) * len(tmcs)\n",
    "tal_headers = [i for i in range(1, n_tallies+1)]\n",
    "i=0\n",
    "tallies = []\n",
    "for geb in gebs:\n",
    "    for time_bin in time_bins:\n",
    "        for tmc in tmcs:\n",
    "            i+=1\n",
    "            tallies.append(\n",
    "                gen.tally(\n",
    "                    tally_id=(i*10)+6,\n",
    "                    tally_type=6,\n",
    "                    particle='e', \n",
    "                    cells='(101 102)',\n",
    "                    ))\n",
    "            tallies.append(\n",
    "                gen.tally(\n",
    "                    tally_id=(i*10)+8,\n",
    "                    tally_type=8,\n",
    "                    particle='p', \n",
    "                    cells='(101 102)',\n",
    "                    energy_bins='0 1e-5 932i 8.4295',\n",
    "                    time_bins=time_bin,\n",
    "                    geb=geb,\n",
    "                    tmc=tmc,\n",
    "                    phl=(i*10)+6,\n",
    "                    ))"
   ]
  },
  {
   "cell_type": "code",
   "execution_count": 11,
   "metadata": {},
   "outputs": [],
   "source": [
    "# sdef pos=0 0 0   par=1   erg=14.0  wgt=1   vec= 0 0 1   dir=d1\n",
    "# si1  -1 .93 1\n",
    "# sp1   0  0.0  1.0\n",
    "\n",
    "source = gen.source(1, (0, 0, 0), 14, si='-1 0.93 1', sp='0 0 1')"
   ]
  },
  {
   "cell_type": "code",
   "execution_count": 12,
   "metadata": {},
   "outputs": [],
   "source": [
    "surfaces = surfaces\n",
    "cells = cells\n",
    "\n",
    "title = f\"Mo15Xfast\"\n",
    "\n",
    "filename = input_folder+title+'.inp'\n",
    "materials = materials\n",
    "\n",
    "mcnp = gen.sim(\n",
    "    title, \n",
    "    nps=1e6,\n",
    "    prdmp=[-60, -60, -1],\n",
    "    source=source,\n",
    "    tallies=tallies,\n",
    "    surfaces=surfaces,\n",
    "    materials=materials,\n",
    "    cells=cells,\n",
    "    )\n",
    "\n",
    "with open(filename, 'w') as f:\n",
    "    f.write(str(mcnp))\n",
    "    f.close()\n"
   ]
  },
  {
   "cell_type": "code",
   "execution_count": null,
   "metadata": {},
   "outputs": [],
   "source": []
  }
 ],
 "metadata": {
  "kernelspec": {
   "display_name": "Python 3",
   "language": "python",
   "name": "python3"
  },
  "language_info": {
   "codemirror_mode": {
    "name": "ipython",
    "version": 3
   },
   "file_extension": ".py",
   "mimetype": "text/x-python",
   "name": "python",
   "nbconvert_exporter": "python",
   "pygments_lexer": "ipython3",
   "version": "3.10.12"
  }
 },
 "nbformat": 4,
 "nbformat_minor": 2
}
