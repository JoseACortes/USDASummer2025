{
 "cells": [
  {
   "cell_type": "code",
   "execution_count": 4,
   "id": "59abe53b",
   "metadata": {},
   "outputs": [],
   "source": [
    "import pandas as pd\n",
    "import numpy as np\n",
    "import pickle\n",
    "import json\n",
    "\n",
    "import matplotlib.pyplot as plt\n",
    "from mpl_toolkits.mplot3d import Axes3D\n",
    "from scipy.spatial import ConvexHull\n",
    "from mpl_toolkits.mplot3d.art3d import Poly3DCollection"
   ]
  },
  {
   "cell_type": "code",
   "execution_count": 5,
   "id": "61efb3cc",
   "metadata": {},
   "outputs": [
    {
     "name": "stdout",
     "output_type": "stream",
     "text": [
      "   soil_resolution         function    id                      filename\n",
      "0            7x7x7               Si  1000               7x7x7_Si_001000\n",
      "1            7x7x7               Al  1001               7x7x7_Al_001001\n",
      "2            7x7x7                H  1002                7x7x7_H_001002\n",
      "3            7x7x7               Na  1003               7x7x7_Na_001003\n",
      "4            7x7x7                O  1004                7x7x7_O_001004\n",
      "5            7x7x7               Fe  1005               7x7x7_Fe_001005\n",
      "6            7x7x7               Mg  1006               7x7x7_Mg_001006\n",
      "7            7x7x7                C  1007                7x7x7_C_001007\n",
      "8            7x7x7             SiO2  1008             7x7x7_SiO2_001008\n",
      "9            7x7x7            Al2O3  1009            7x7x7_Al2O3_001009\n",
      "10           7x7x7              H2O  1010              7x7x7_H2O_001010\n",
      "11           7x7x7             Na2O  1011             7x7x7_Na2O_001011\n",
      "12           7x7x7            Fe2O3  1012            7x7x7_Fe2O3_001012\n",
      "13           7x7x7              MgO  1013              7x7x7_MgO_001013\n",
      "14           7x7x7           Silica  1014           7x7x7_Silica_001014\n",
      "15           7x7x7        Kaolinite  1015        7x7x7_Kaolinite_001015\n",
      "16           7x7x7         Smectite  1016         7x7x7_Smectite_001016\n",
      "17           7x7x7  Montmorillonite  1017  7x7x7_Montmorillonite_001017\n",
      "18           7x7x7           Quartz  1018           7x7x7_Quartz_001018\n",
      "19           7x7x7         Chlorite  1019         7x7x7_Chlorite_001019\n",
      "20           7x7x7             Mica  1020             7x7x7_Mica_001020\n",
      "21           7x7x7         Feldspar  1021         7x7x7_Feldspar_001021\n",
      "22           7x7x7          Coconut  1022          7x7x7_Coconut_001022\n"
     ]
    }
   ],
   "source": [
    "sims_file = '../01_GeneratePureSpectrums/sims_01.csv'\n",
    "res_info_folder = '../01_GeneratePureSpectrums/ResInfo/res_info_'\n",
    "sims_df = pd.read_csv(sims_file)\n",
    "print(sims_df)\n",
    "pickle_files = '../01_GeneratePureSpectrums/specs/'+sims_df['filename']+'.pkl'"
   ]
  },
  {
   "cell_type": "code",
   "execution_count": null,
   "id": "d5a85c4b",
   "metadata": {},
   "outputs": [
    {
     "name": "stdout",
     "output_type": "stream",
     "text": [
      "                        filename  n_90  n_95  n_99  n_100  n_total\n",
      "0                7x7x7_Si_001000    27    48   118    343      343\n",
      "1                7x7x7_Al_001001    25    45   104    315      343\n",
      "2                 7x7x7_H_001002    34    42    52    343      343\n",
      "3                7x7x7_Na_001003    76   119   205    316      343\n",
      "4                 7x7x7_O_001004    67    83   115    343      343\n",
      "5                7x7x7_Fe_001005     8    15    48    343      343\n",
      "6                7x7x7_Mg_001006    30    51   124    316      343\n",
      "7                 7x7x7_C_001007    23    37    84    308      343\n",
      "8              7x7x7_SiO2_001008    22    38    89    307      343\n",
      "9             7x7x7_Al2O3_001009    12    21    54    275      343\n",
      "10              7x7x7_H2O_001010    33    53   113    343      343\n",
      "11             7x7x7_Na2O_001011    30    51   117    313      343\n",
      "12            7x7x7_Fe2O3_001012    11    18    50    287      343\n",
      "13              7x7x7_MgO_001013    17    29    74    343      343\n",
      "14           7x7x7_Silica_001014    27    47   108    343      343\n",
      "15        7x7x7_Kaolinite_001015     9    14    38    204      343\n",
      "16         7x7x7_Smectite_001016    18    30    73    343      343\n",
      "17  7x7x7_Montmorillonite_001017    21    35    83    343      343\n",
      "18           7x7x7_Quartz_001018    23    39    90    311      343\n",
      "19         7x7x7_Chlorite_001019    15    26    65    343      343\n",
      "20             7x7x7_Mica_001020    17    28    69    290      343\n",
      "21         7x7x7_Feldspar_001021    24    41    95    313      343\n",
      "22          7x7x7_Coconut_001022    96   139   226    316      343\n"
     ]
    },
    {
     "name": "stderr",
     "output_type": "stream",
     "text": [
      "/tmp/ipykernel_4018425/2306235724.py:37: RuntimeWarning: invalid value encountered in divide\n",
      "  cells_over_total_heating = np.nan_to_num(np.divide(cell_heating, total_soil_heating), copy=False, nan=0.0, posinf=None, neginf=None)\n"
     ]
    }
   ],
   "source": [
    "filenames = []\n",
    "n_90 = []\n",
    "n_95 = []\n",
    "n_99 = []\n",
    "n_100 = []\n",
    "n_total = []\n",
    "\n",
    "for i in range(len(sims_df)):\n",
    "\n",
    "    pickle_file = pickle_files[i]\n",
    "    soil_resolution = sims_df['soil_resolution'][i]\n",
    "    res_info_file = res_info_folder + str(soil_resolution) + '.json'\n",
    "    res_info = json.load(open(res_info_file, 'r'))\n",
    "    midpoints = np.array(res_info['midpoints'])\n",
    "    detector_tally_ids = [int(r) for r in res_info['detector_tally_ids']]\n",
    "    cell_ids = [int(r) for r in res_info['cell_ids']]\n",
    "    filename = sims_df['filename'][i]\n",
    "    i_bins, i_spectrums= pickle.load(open(pickle_file, 'rb'))\n",
    "    detector_energy_bins = i_bins[0][-2]\n",
    "    detector_spec = i_spectrums[0]\n",
    "    causal_bins = [str(bin)[:len(str(cell_ids[0]))] for bin in i_bins[4][2]]\n",
    "    causal_bins = (np.array(causal_bins)).astype(int).tolist()\n",
    "    causal_energy_bins = i_bins[4][-2]\n",
    "    causal_spec = i_spectrums[4]\n",
    "    new_shape = np.array(causal_spec.shape)\n",
    "    new_shape[2] = len(cell_ids)\n",
    "    new_array = np.zeros(new_shape)\n",
    "    for j in range(len(cell_ids)):\n",
    "        if cell_ids[j] in causal_bins:\n",
    "            new_array[:, :, j] = causal_spec[:, :, causal_bins.index(cell_ids[j])]\n",
    "    full_causal_spec = new_array\n",
    "    cell_heating = full_causal_spec[0, 0, :, 0, 0, 0, :, 0]\n",
    "    total_soil_heating = np.sum(cell_heating, axis=0)\n",
    "    cells_over_total_heating = np.nan_to_num(np.divide(cell_heating, total_soil_heating), copy=False, nan=0.0, posinf=None, neginf=None)\n",
    "    cells_over_total_heating = cells_over_total_heating/np.sum(cells_over_total_heating)\n",
    "    cell_portion = np.sum(cells_over_total_heating, axis=1)\n",
    "\n",
    "    sorted_indicies = np.argsort(cell_portion)[::-1]\n",
    "    sorted_vals = (cell_portion)[sorted_indicies]\n",
    "    def percent_cloud(sorted_indicies, sorted_vals, threshold=0.90):\n",
    "        total = np.sum(sorted_vals)\n",
    "        cumulative_sum = np.cumsum(sorted_vals)\n",
    "        percent = cumulative_sum / total\n",
    "        return sorted_indicies[percent < threshold]\n",
    "    cell_portion = np.sum(cells_over_total_heating, axis=1)\n",
    "\n",
    "\n",
    "    filenames.append(filename)\n",
    "    n_90.append(len(percent_cloud(sorted_indicies, sorted_vals, threshold=.90)))\n",
    "    n_95.append(len(percent_cloud(sorted_indicies, sorted_vals, threshold=.95)))\n",
    "    n_99.append(len(percent_cloud(sorted_indicies, sorted_vals, threshold=.99)))\n",
    "    n_100.append(len(percent_cloud(sorted_indicies, sorted_vals, threshold=1.0)))\n",
    "    n_total.append(len(sorted_indicies))\n",
    "\n",
    "results_df = pd.DataFrame({\n",
    "    'filename': filenames,\n",
    "    'n_90': n_90,\n",
    "    'n_95': n_95,\n",
    "    'n_99': n_99,\n",
    "    'n_100': n_100,\n",
    "    'n_total': n_total\n",
    "})\n",
    "results_df.to_csv('n_cells_over_total_heating.csv', index=False)\n",
    "print(results_df)"
   ]
  },
  {
   "cell_type": "code",
   "execution_count": 32,
   "id": "cf3c8264",
   "metadata": {},
   "outputs": [],
   "source": [
    "import math"
   ]
  },
  {
   "cell_type": "code",
   "execution_count": 33,
   "id": "4401af92",
   "metadata": {},
   "outputs": [
    {
     "data": {
      "text/plain": [
       "<function math.factorial(x, /)>"
      ]
     },
     "execution_count": 33,
     "metadata": {},
     "output_type": "execute_result"
    }
   ],
   "source": [
    "math.factorial"
   ]
  },
  {
   "cell_type": "code",
   "execution_count": 37,
   "id": "5f7ea71e",
   "metadata": {},
   "outputs": [
    {
     "data": {
      "text/plain": [
       "10.5"
      ]
     },
     "execution_count": 37,
     "metadata": {},
     "output_type": "execute_result"
    }
   ],
   "source": [
    "# 2 nCr 22 calulatuiom using numpy:\n",
    "(math.factorial(22) // (math.factorial(2) * math.factorial(22 - 2)))/22\n"
   ]
  }
 ],
 "metadata": {
  "kernelspec": {
   "display_name": "Python 3",
   "language": "python",
   "name": "python3"
  },
  "language_info": {
   "codemirror_mode": {
    "name": "ipython",
    "version": 3
   },
   "file_extension": ".py",
   "mimetype": "text/x-python",
   "name": "python",
   "nbconvert_exporter": "python",
   "pygments_lexer": "ipython3",
   "version": "3.10.12"
  }
 },
 "nbformat": 4,
 "nbformat_minor": 5
}
